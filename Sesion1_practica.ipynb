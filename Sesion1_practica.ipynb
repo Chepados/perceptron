{
  "cells": [
    {
      "cell_type": "markdown",
      "metadata": {
        "id": "Mxhs5BtVTJH5"
      },
      "source": [
        "# 1. Implementar un perceptrón en Python"
      ]
    },
    {
      "cell_type": "markdown",
      "metadata": {
        "id": "uNe_1MX-TJH-"
      },
      "source": [
        "Implementa un perceptrón funcional en Python utilizando la librería NumPy, y utilízalo para hacer una predicción sobre el dataset de breast_cancer de sklearn. Para ello, ve rellenando la clase que hay en este notebook, siguiendo los siguientes subapartados:"
      ]
    },
    {
      "cell_type": "code",
      "execution_count": 186,
      "metadata": {
        "id": "ffvquzVdTJH_"
      },
      "outputs": [],
      "source": [
        "from random import randint\n",
        "import numpy as np\n",
        "\n",
        "class Perceptron:\n",
        "    \"\"\"Perceptron classifier.\n",
        "    Parameters\n",
        "    ------------\n",
        "    eta : float\n",
        "      Learning rate (between 0.0 and 1.0)\n",
        "    n_iter : int\n",
        "      Passes over the training dataset.\n",
        "    random_state : int\n",
        "      Random number generator seed for random weight\n",
        "      initialization.\n",
        "    Attributes\n",
        "    -----------\n",
        "    w_ : 1d-array\n",
        "      Weights after fitting.\n",
        "    b_ : Scalar\n",
        "      Bias unit after fitting.\n",
        "    errors_ : list\n",
        "      Number of misclassifications (updates) in each epoch.\n",
        "    \"\"\"\n",
        "    def __init__(self, eta=0.01, n_iter=50, random_state=randint(0, 100)):\n",
        "        self.eta = eta\n",
        "        self.n_iter = n_iter\n",
        "        self.random_state = random_state\n",
        "        rgen = np.random.RandomState(self.random_state)\n",
        "        self.w_ = rgen.normal(loc=0.0, scale=0.01, size=X.shape[1])\n",
        "        self.b_ = np.float_(0.)\n",
        "        self.errors_ = []\n",
        "\n",
        "    def fit(self, X, y):\n",
        "        \"\"\"Ajusta los vectores de X a la clase y.\n",
        "        Parámetros\n",
        "        ----------\n",
        "        X : {array-like}, shape = [n_examples, n_features]\n",
        "          Vectores de entrenamiento, donde n_examples es el número de vectores,\n",
        "          y n_features, el número de features por cada vector.\n",
        "        y : array-like, shape = [n_examples]\n",
        "          Vector de ground truth.\n",
        "        Returns\n",
        "        -------\n",
        "        self : object\n",
        "        \"\"\"\n",
        "\n",
        "        for epoca in range(self.n_iter):\n",
        "            \n",
        "            errores_epoca = 0\n",
        "\n",
        "            for i in range(len(X)):\n",
        "                y_pred = self.predict(X[i])\n",
        "                error = y[i] - y_pred\n",
        "                if error != 0:\n",
        "                    errores_epoca += 1\n",
        "                self.w_ += X[i] * self.eta * error\n",
        "                self.b_ += self.eta * error\n",
        "\n",
        "            self.errors_.append(errores_epoca)\n",
        "\n",
        "\n",
        "    def net_input(self, X):\n",
        "        return np.dot(X, self.w_)\n",
        "\n",
        "    def predict(self, X):\n",
        "        X = np.array(X)\n",
        "\n",
        "        if X.ndim == 1:\n",
        "            return self.__predict_unidimensional(X)\n",
        "        else:\n",
        "            return self.__predict_multidimensional(X)\n",
        "    \n",
        "    def __predict_unidimensional(self, X):\n",
        "        if self.net_input(X) + self.b_ <= 0.6:\n",
        "            return 0\n",
        "        else:\n",
        "            return 1\n",
        "        \n",
        "    def __predict_multidimensional(self, X):\n",
        "        predicciones = []\n",
        "\n",
        "        for x in X:\n",
        "            predicciones.append(self.__predict_unidimensional(x))\n",
        "\n",
        "        return np.array(predicciones)\n",
        "\n",
        "\n",
        "\n",
        "        "
      ]
    },
    {
      "cell_type": "markdown",
      "metadata": {
        "id": "bvYMnJyRTJIB"
      },
      "source": [
        "1.1. Observa la función \"\\_\\_init\\_\\_\". Esta función contiene los parámetros con los que se inicializará nuestro perceptrón, y que serán accesibles por todos los métodos de la clase. \"eta\" es el learning_rate, \"n_iter\" es el número de iteraciones que se harán sobre el conjunto de entrenamiento, \"random_state\" es la semilla para inicializar los valores aleatorios de $W$, \"w_\" es el vector $W$, \"b_\" es la unidad de sesgo o *bias*, y \"errors_\" indica el número de errores cometidos durante el entrenamiento."
      ]
    },
    {
      "cell_type": "markdown",
      "metadata": {
        "id": "wrh62ikvTJIC"
      },
      "source": [
        "1.2. Implementa la función \"net_input\", que recibirá un vector de valores $X$, y devolverá el **net input** de $X$ y $W$. Utiliza NumPy para realizar la operación producto punto."
      ]
    },
    {
      "cell_type": "markdown",
      "metadata": {
        "id": "rRiVtB9uTJID"
      },
      "source": [
        "1.3. Implementa la función \"predict\", que te devuelva la predicción de la clase a la que pertenece un registro $X$. Recuerda que el perceptrón devuelve clase 1 si el \"net_input\" de $X$ y $W$ es superior a 0, ó clase 0 en caso contrario."
      ]
    },
    {
      "cell_type": "markdown",
      "metadata": {
        "id": "kr9K2cAgTJID"
      },
      "source": [
        "1.4. Implementa la función \"fit\", que ejecute el algoritmo del perceptrón. Recuerda su definición:\n",
        "1. Definimos el número de iteraciones sobre el conjunto de datos (nuestro parámetro que ya definimos en la función \"\\_\\_init\\_\\_\", \"n_iter\").\n",
        "2. Por cada iteración sobre el conjunto de datos, iteramos sobre cada registro que tengamos.\n",
        "3. Por cada registro de nuestro conjunto de datos, predecimos a qué clase pertenece dicho registro.\n",
        "4. Una vez tengamos la clase predicha, computamos el error y el valor actualizado de $W$ y $b$.\n",
        "5. Actualizamos $W$ y $b$."
      ]
    },
    {
      "cell_type": "markdown",
      "metadata": {
        "id": "XzOFkjS3TJIE"
      },
      "source": [
        "1.5. Añade a la función \"fit\" código para que almacene en la lista \"errors_\" (atributo de nuestra clase), por cada iteración sobre el conjunto de datos, el número de predicciones fallidas en dicha iteración."
      ]
    },
    {
      "cell_type": "markdown",
      "metadata": {
        "id": "1oZJrNKsTJIE"
      },
      "source": [
        "1.6. Con tu perceptrón funcional, utilízalo para predecir sobre un dataset de prueba:"
      ]
    },
    {
      "cell_type": "code",
      "execution_count": 187,
      "metadata": {
        "id": "mtK9RKo8TJIE"
      },
      "outputs": [],
      "source": [
        "### --------------------------------------------------------------- ###\n",
        "# Ejecuta esta celda: contiene funciones que necesitarás más adelante #\n",
        "### --------------------------------------------------------------- ###\n",
        "\n",
        "from sklearn.datasets import load_iris\n",
        "\n",
        "def plot_errors_over_epochs(model: Perceptron):\n",
        "    from matplotlib import pyplot as plt\n",
        "    plt.plot(range(1, len(model.errors_) + 1), model.errors_, marker='o')\n",
        "    plt.xlabel('Epochs')\n",
        "    plt.ylabel('Number of updates')\n",
        "    plt.show()\n",
        "\n",
        "def plot_decision_regions(X, y, classifier, resolution=0.02):\n",
        "    from matplotlib import pyplot as plt\n",
        "    from matplotlib.colors import ListedColormap\n",
        "\n",
        "    # setup marker generator and color map\n",
        "    markers = ('o', 's', '^', 'v', '<')\n",
        "    colors = ('red', 'blue', 'lightgreen', 'gray', 'cyan')\n",
        "    cmap = ListedColormap(colors[:len(np.unique(y))])\n",
        "\n",
        "    # plot the decision surface\n",
        "    x1_min, x1_max = X[:, 0].min() - 1, X[:, 0].max() + 1\n",
        "    x2_min, x2_max = X[:, 1].min() - 1, X[:, 1].max() + 1\n",
        "    xx1, xx2 = np.meshgrid(np.arange(x1_min, x1_max, resolution),\n",
        "                           np.arange(x2_min, x2_max, resolution))\n",
        "    lab = classifier.predict(np.array([xx1.ravel(), xx2.ravel()]).T)\n",
        "    lab = lab.reshape(xx1.shape)\n",
        "    plt.contourf(xx1, xx2, lab, alpha=0.3, cmap=cmap)\n",
        "    plt.xlim(xx1.min(), xx1.max())\n",
        "    plt.ylim(xx2.min(), xx2.max())\n",
        "\n",
        "    # plot class examples\n",
        "    for idx, cl in enumerate(np.unique(y)):\n",
        "        plt.scatter(x=X[y == cl, 0],\n",
        "                    y=X[y == cl, 1],\n",
        "                    alpha=0.8,\n",
        "                    c=colors[idx],\n",
        "                    marker=markers[idx],\n",
        "                    label=f'Class {cl}',\n",
        "                    edgecolor='black')\n",
        "    plt.xlabel('Sepal length [cm]')\n",
        "    plt.ylabel('Petal length [cm]')\n",
        "    plt.legend(loc='upper left')\n",
        "    plt.show()\n",
        "\n",
        "X, y = load_iris(return_X_y=True, as_frame=True)\n",
        "\n",
        "y = y.iloc[0:100].values\n",
        "y = np.where(y == 1, 0, 1)\n",
        "\n",
        "X = X.iloc[0:100, [0, 2]].values"
      ]
    },
    {
      "cell_type": "code",
      "execution_count": 188,
      "metadata": {
        "id": "YxHdjatQTJIF"
      },
      "outputs": [],
      "source": [
        "### -------------------------------------------------------------------------------------------- ###\n",
        "# Utiliza la clase Perceptron para predecir sobre el dataset compuesto por las variables \"X\" e \"Y\" #\n",
        "### -------------------------------------------------------------------------------------------- ###\n",
        "\n"
      ]
    },
    {
      "cell_type": "code",
      "execution_count": 189,
      "metadata": {},
      "outputs": [],
      "source": [
        "import matplotlib.pyplot as plt\n",
        "\n",
        "lista_1 = []\n",
        "lista_0 = []\n",
        "\n",
        "for i in range(len(X)):\n",
        "    if y[i] == 1:\n",
        "        lista_1.append(X[i])\n",
        "    else:\n",
        "        lista_0.append(X[i])\n",
        "\n",
        "lista_1 = np.array(lista_1)\n",
        "lista_0 = np.array(lista_0)"
      ]
    },
    {
      "cell_type": "code",
      "execution_count": 190,
      "metadata": {},
      "outputs": [
        {
          "data": {
            "image/png": "[encoded data removed]",
            "text/plain": [
              "<Figure size 640x480 with 1 Axes>"
            ]
          },
          "metadata": {},
          "output_type": "display_data"
        }
      ],
      "source": [
        "plt.scatter(lista_0[:, 0], lista_0[:, 1], c=\"red\")\n",
        "plt.scatter(lista_1[:, 0], lista_1[:, 1], c=\"green\")\n",
        "plt.show()"
      ]
    },
    {
      "cell_type": "markdown",
      "metadata": {},
      "source": [
        "Primero como los datos son linealmente separables, vemos que un perceptron debe de poder generar un clasificador."
      ]
    },
    {
      "cell_type": "code",
      "execution_count": 191,
      "metadata": {},
      "outputs": [
        {
          "name": "stdout",
          "output_type": "stream",
          "text": [
            "[1, 1, 1, 1, 1, 1, 1, 1, 1, 1, 1, 1, 1, 1, 1, 1, 1, 1, 1, 1, 1, 1, 1, 1, 1, 1, 1, 1, 1, 1, 1, 1, 1, 1, 1, 1, 1, 1, 1, 1, 1, 1, 1, 1, 1, 1, 1, 1, 1, 1, 0, 0, 0, 0, 0, 0, 0, 0, 0, 0, 0, 0, 0, 0, 0, 0, 0, 0, 0, 0, 0, 0, 0, 0, 0, 0, 0, 0, 0, 0, 0, 0, 0, 0, 0, 0, 0, 0, 0, 0, 0, 0, 0, 0, 0, 0, 0, 0, 0, 0]\n",
            "[4, 3, 2, 3, 2, 3, 2, 3, 1, 0, 0, 0, 0, 0, 0, 0, 0, 0, 0, 0, 0, 0, 0, 0, 0, 0, 0, 0, 0, 0, 0, 0, 0, 0, 0, 0, 0, 0, 0, 0, 0, 0, 0, 0, 0, 0, 0, 0, 0, 0]\n"
          ]
        }
      ],
      "source": [
        "perceptron = Perceptron()\n",
        "perceptron.fit(X, y)\n",
        "\n",
        "predicciones = [perceptron.predict(x) for x in X]\n",
        "\n",
        "print(predicciones)\n",
        "print(perceptron.errors_)"
      ]
    },
    {
      "cell_type": "markdown",
      "metadata": {
        "id": "Z61ZaTB2TJIG"
      },
      "source": [
        "1.7 Utiliza la función \"plot_errors_over_epochs\" para visualizar el proceso de entrenamiento de tu modelo."
      ]
    },
    {
      "cell_type": "code",
      "execution_count": 192,
      "metadata": {
        "id": "Le3xDkPLTJIG"
      },
      "outputs": [
        {
          "data": {
            "image/png": "[encoded data removed]",
            "text/plain": [
              "<Figure size 640x480 with 1 Axes>"
            ]
          },
          "metadata": {},
          "output_type": "display_data"
        }
      ],
      "source": [
        "plot_errors_over_epochs(perceptron)"
      ]
    },
    {
      "cell_type": "markdown",
      "metadata": {
        "id": "HZ6heLSKTJIH"
      },
      "source": [
        "1.8 Utiliza la función \"plot_decision_regions\" para ver qué tal separa tu modelo el dataset."
      ]
    },
    {
      "cell_type": "code",
      "execution_count": 193,
      "metadata": {
        "id": "whaXphQ7TJIH"
      },
      "outputs": [
        {
          "data": {
            "image/png": "[encoded data removed]",
            "text/plain": [
              "<Figure size 640x480 with 1 Axes>"
            ]
          },
          "metadata": {},
          "output_type": "display_data"
        }
      ],
      "source": [
        "plot_decision_regions(X, y, perceptron)"
      ]
    },
    {
      "cell_type": "markdown",
      "metadata": {
        "id": "2Pd0MQjHTJIH"
      },
      "source": [
        "# 2. Implementar Adaline en Python"
      ]
    },
    {
      "cell_type": "markdown",
      "metadata": {
        "id": "zMK8Y02lTJII"
      },
      "source": [
        "Utilizando la implementación del perceptrón del ejercicio anterior, modifícala en la siguiente celda para tener un modelo Adaline.\n",
        "\n",
        "- Las funciones \"net_input\" y \"predict\" son exactamente iguales.\n",
        "- En la función \"activation\", deberás implementar la función de activación de Adaline, que si recuerdas, se definía: $f(X) = X$\n",
        "- En la función \"fit\", deberás modificar los valores de actualización de $W$ y $b$ para que cuadren con el modelo de Adaline."
      ]
    },
    {
      "cell_type": "code",
      "execution_count": 219,
      "metadata": {
        "id": "DQFzrcm2TJII"
      },
      "outputs": [],
      "source": [
        "class Adaline:\n",
        "    \"\"\"Adaline classifier.\n",
        "    Parameters\n",
        "    ------------\n",
        "    eta : float\n",
        "      Learning rate (between 0.0 and 1.0)\n",
        "    n_iter : int\n",
        "      Passes over the training dataset.\n",
        "    random_state : int\n",
        "      Random number generator seed for random weight\n",
        "      initialization.\n",
        "    Attributes\n",
        "    -----------\n",
        "    w_ : 1d-array\n",
        "      Weights after fitting.\n",
        "    b_ : Scalar\n",
        "      Bias unit after fitting.\n",
        "    errors_ : list\n",
        "      Number of misclassifications (updates) in each epoch.\n",
        "    \"\"\"\n",
        "    def __init__(self, eta=0.01, n_iter=50, random_state=1):\n",
        "        self.eta = eta\n",
        "        self.n_iter = n_iter\n",
        "        self.random_state = random_state\n",
        "        rgen = np.random.RandomState(self.random_state)\n",
        "        self.w_ = rgen.normal(loc=0.0, scale=0.01, size=X.shape[1])\n",
        "        self.b_ = np.float_(0.)\n",
        "        self.errors_ = []\n",
        "\n",
        "    def fit(self, X, y):\n",
        "        \"\"\"Ajusta los vectores de X a la clase y.\n",
        "        Parámetros\n",
        "        ----------\n",
        "        X : {array-like}, shape = [n_examples, n_features]\n",
        "          Vectores de entrenamiento, donde n_examples es el número de vectores,\n",
        "          y n_features, el número de features por cada vector.\n",
        "        y : array-like, shape = [n_examples]\n",
        "          Vector de ground truth.\n",
        "        Returns\n",
        "        -------\n",
        "        self : object\n",
        "        \"\"\"\n",
        "\n",
        "        for epoca in range(self.n_iter):\n",
        "            lista_errores = []\n",
        "            for i in range(len(X)):\n",
        "                y_pred = self.predict(X[i])\n",
        "                error = y[i] - y_pred\n",
        "                lista_errores.append(error)\n",
        "\n",
        "            lista_errores = np.array(lista_errores)\n",
        "            mce = (lista_errores).sum()/2\n",
        "\n",
        "            #Actualizacion de valores\n",
        "\n",
        "            self.w_ += X[i] * self.eta * mce\n",
        "            self.b_ += self.eta * mce\n",
        "            self.errors_.append(mce)\n",
        "\n",
        "\n",
        "    def net_input(self, X):\n",
        "        return np.dot(X, self.w_)\n",
        "\n",
        "    def predict(self, X):\n",
        "        X = np.array(X)\n",
        "\n",
        "        if X.ndim == 1:\n",
        "            return self.__predict_unidimensional(X)\n",
        "        else:\n",
        "            return self.__predict_multidimensional(X)\n",
        "    \n",
        "    def __predict_unidimensional(self, X):\n",
        "        return self.net_input(X) + self.b_\n",
        "        \n",
        "    def __predict_multidimensional(self, X):\n",
        "        predicciones = []\n",
        "\n",
        "        for x in X:\n",
        "            predicciones.append(self.__predict_unidimensional(x))\n",
        "\n",
        "        return np.array(predicciones)\n",
        "\n",
        "    def activation(self, X):\n",
        "        \"\"\"Función de activación de Adaline\"\"\"\n",
        "        "
      ]
    },
    {
      "cell_type": "code",
      "execution_count": 223,
      "metadata": {},
      "outputs": [
        {
          "data": {
            "text/plain": [
              "array([-4.07709263e+65, -3.94729968e+65, -3.77082681e+65, -3.79929017e+65,\n",
              "       -4.01219616e+65, -4.41182182e+65, -3.75261025e+65, -4.05887608e+65,\n",
              "       -3.62281730e+65, -3.99397960e+65, -4.31846198e+65, -3.97576305e+65,\n",
              "       -3.88240320e+65, -3.41788106e+65, -4.43800812e+65, -4.51315141e+65,\n",
              "       -4.22510214e+65, -4.07709263e+65, -4.60651125e+65, -4.12377255e+65,\n",
              "       -4.41182182e+65, -4.12377255e+65, -3.56589057e+65, -4.21713239e+65,\n",
              "       -4.11580281e+65, -4.10555600e+65, -4.10555600e+65, -4.18866903e+65,\n",
              "       -4.14198911e+65, -3.91086657e+65, -3.97576305e+65, -4.31846198e+65,\n",
              "       -4.18866903e+65, -4.33667853e+65, -3.99397960e+65, -3.91883631e+65,\n",
              "       -4.28999861e+65, -3.94729968e+65, -3.57613738e+65, -4.12377255e+65,\n",
              "       -3.96551623e+65, -3.64103385e+65, -3.57613738e+65, -4.10555600e+65,\n",
              "       -4.31049224e+65, -3.88240320e+65, -4.17045247e+65, -3.75261025e+65,\n",
              "       -4.25356550e+65, -4.01219616e+65, -6.85056307e+65, -6.36782437e+65,\n",
              "       -6.87902644e+65, -5.55035649e+65, -6.47940077e+65, -5.91354904e+65,\n",
              "       -6.39628774e+65, -4.83421818e+65, -6.54429725e+65, -5.30898714e+65,\n",
              "       -4.99247450e+65, -5.90330223e+65, -5.87483887e+65, -6.26649479e+65,\n",
              "       -5.42853328e+65, -6.51583388e+65, -5.84865257e+65, -5.79172583e+65,\n",
              "       -6.23803142e+65, -5.56857304e+65, -6.18338176e+65, -5.93973534e+65,\n",
              "       -6.48964758e+65, -6.26649479e+65, -6.27446453e+65, -6.45093741e+65,\n",
              "       -6.76745004e+65, -6.79591341e+65, -6.10823847e+65, -5.44674983e+65,\n",
              "       -5.45699664e+65, -5.41031672e+65, -5.69836599e+65, -6.38831800e+65,\n",
              "       -5.71885962e+65, -6.10823847e+65, -6.65587364e+65, -6.25624798e+65,\n",
              "       -5.66193288e+65, -5.55035649e+65, -5.73707617e+65, -6.21981487e+65,\n",
              "       -5.74504591e+65, -4.89911466e+65, -5.70861280e+65, -5.77350928e+65,\n",
              "       -5.77350928e+65, -6.14467158e+65, -4.82397137e+65, -5.72682936e+65])"
            ]
          },
          "execution_count": 223,
          "metadata": {},
          "output_type": "execute_result"
        }
      ],
      "source": [
        "clasifier = Adaline()\n",
        "clasifier.fit(X, y)\n",
        "\n",
        "clasifier.predict(X)"
      ]
    }
  ],
  "metadata": {
    "colab": {
      "provenance": []
    },
    "kernelspec": {
      "display_name": "Python 3.10.6 64-bit",
      "language": "python",
      "name": "python3"
    },
    "language_info": {
      "codemirror_mode": {
        "name": "ipython",
        "version": 3
      },
      "file_extension": ".py",
      "mimetype": "text/x-python",
      "name": "python",
      "nbconvert_exporter": "python",
      "pygments_lexer": "ipython3",
      "version": "3.12.0"
    },
    "orig_nbformat": 4,
    "vscode": {
      "interpreter": {
        "hash": "e7370f93d1d0cde622a1f8e1c04877d8463912d04d973331ad4851f04de6915a"
      }
    }
  },
  "nbformat": 4,
  "nbformat_minor": 0
}
